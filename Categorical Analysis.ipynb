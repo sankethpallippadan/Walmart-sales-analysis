{
 "cells": [
  {
   "cell_type": "markdown",
   "id": "44d7d185-1d55-4169-b0b1-6c24d908df79",
   "metadata": {},
   "source": [
    "### Re-importing required libraries to conduct categorical analysis.\n",
    "*Importing Pandas, Matplotlib, and numpy.*"
   ]
  },
  {
   "cell_type": "code",
   "execution_count": 5,
   "id": "f73787ed-7fca-454f-8bf9-46b36be860ab",
   "metadata": {},
   "outputs": [],
   "source": [
    "import pandas as pd\n",
    "import numpy as np\n",
    "import matplotlib.pyplot as plt\n",
    "\n",
    "%matplotlib inline"
   ]
  },
  {
   "cell_type": "markdown",
   "id": "c9aebfd3-2e94-4162-9b62-62ccd86e7d9d",
   "metadata": {},
   "source": [
    "*Reading csv file.*"
   ]
  },
  {
   "cell_type": "code",
   "execution_count": 14,
   "id": "71b544df-0629-4326-ba11-33d7fdbe17d8",
   "metadata": {},
   "outputs": [
    {
     "data": {
      "text/html": [
       "<div>\n",
       "<style scoped>\n",
       "    .dataframe tbody tr th:only-of-type {\n",
       "        vertical-align: middle;\n",
       "    }\n",
       "\n",
       "    .dataframe tbody tr th {\n",
       "        vertical-align: top;\n",
       "    }\n",
       "\n",
       "    .dataframe thead th {\n",
       "        text-align: right;\n",
       "    }\n",
       "</style>\n",
       "<table border=\"1\" class=\"dataframe\">\n",
       "  <thead>\n",
       "    <tr style=\"text-align: right;\">\n",
       "      <th></th>\n",
       "      <th>Store</th>\n",
       "      <th>Date</th>\n",
       "      <th>Weekly_Sales</th>\n",
       "      <th>Holiday_Flag</th>\n",
       "      <th>Temperature</th>\n",
       "      <th>Fuel_Price</th>\n",
       "      <th>CPI</th>\n",
       "      <th>Unemployment</th>\n",
       "    </tr>\n",
       "  </thead>\n",
       "  <tbody>\n",
       "    <tr>\n",
       "      <th>0</th>\n",
       "      <td>1</td>\n",
       "      <td>05-02-2010</td>\n",
       "      <td>1643690.90</td>\n",
       "      <td>0</td>\n",
       "      <td>42.31</td>\n",
       "      <td>2.572</td>\n",
       "      <td>211.096358</td>\n",
       "      <td>8.106</td>\n",
       "    </tr>\n",
       "    <tr>\n",
       "      <th>1</th>\n",
       "      <td>1</td>\n",
       "      <td>12-02-2010</td>\n",
       "      <td>1641957.44</td>\n",
       "      <td>1</td>\n",
       "      <td>38.51</td>\n",
       "      <td>2.548</td>\n",
       "      <td>211.242170</td>\n",
       "      <td>8.106</td>\n",
       "    </tr>\n",
       "    <tr>\n",
       "      <th>2</th>\n",
       "      <td>1</td>\n",
       "      <td>19-02-2010</td>\n",
       "      <td>1611968.17</td>\n",
       "      <td>0</td>\n",
       "      <td>39.93</td>\n",
       "      <td>2.514</td>\n",
       "      <td>211.289143</td>\n",
       "      <td>8.106</td>\n",
       "    </tr>\n",
       "    <tr>\n",
       "      <th>3</th>\n",
       "      <td>1</td>\n",
       "      <td>26-02-2010</td>\n",
       "      <td>1409727.59</td>\n",
       "      <td>0</td>\n",
       "      <td>46.63</td>\n",
       "      <td>2.561</td>\n",
       "      <td>211.319643</td>\n",
       "      <td>8.106</td>\n",
       "    </tr>\n",
       "    <tr>\n",
       "      <th>4</th>\n",
       "      <td>1</td>\n",
       "      <td>05-03-2010</td>\n",
       "      <td>1554806.68</td>\n",
       "      <td>0</td>\n",
       "      <td>46.50</td>\n",
       "      <td>2.625</td>\n",
       "      <td>211.350143</td>\n",
       "      <td>8.106</td>\n",
       "    </tr>\n",
       "  </tbody>\n",
       "</table>\n",
       "</div>"
      ],
      "text/plain": [
       "   Store        Date  Weekly_Sales  Holiday_Flag  Temperature  Fuel_Price  \\\n",
       "0      1  05-02-2010    1643690.90             0        42.31       2.572   \n",
       "1      1  12-02-2010    1641957.44             1        38.51       2.548   \n",
       "2      1  19-02-2010    1611968.17             0        39.93       2.514   \n",
       "3      1  26-02-2010    1409727.59             0        46.63       2.561   \n",
       "4      1  05-03-2010    1554806.68             0        46.50       2.625   \n",
       "\n",
       "          CPI  Unemployment  \n",
       "0  211.096358         8.106  \n",
       "1  211.242170         8.106  \n",
       "2  211.289143         8.106  \n",
       "3  211.319643         8.106  \n",
       "4  211.350143         8.106  "
      ]
     },
     "execution_count": 14,
     "metadata": {},
     "output_type": "execute_result"
    }
   ],
   "source": [
    "df = pd.read_csv('Walmart_Sales.csv')\n",
    "df.head()"
   ]
  },
  {
   "cell_type": "markdown",
   "id": "ce0769f4-7091-444a-9417-63e2c1e092a6",
   "metadata": {},
   "source": [
    "*Lets see how unemployment rates are spread over the time period.*"
   ]
  },
  {
   "cell_type": "code",
   "execution_count": 19,
   "id": "c690ec1b-a93b-4fbb-ae8f-65a29cc4e7e1",
   "metadata": {},
   "outputs": [
    {
     "data": {
      "text/plain": [
       "Unemployment\n",
       "8.099    78\n",
       "7.852    56\n",
       "8.163    56\n",
       "8.200    52\n",
       "6.565    52\n",
       "         ..\n",
       "6.195     4\n",
       "6.573     4\n",
       "5.329     4\n",
       "5.422     4\n",
       "5.217     4\n",
       "Name: count, Length: 349, dtype: int64"
      ]
     },
     "execution_count": 19,
     "metadata": {},
     "output_type": "execute_result"
    }
   ],
   "source": [
    "df['Unemployment'].value_counts().sort_values(ascending=False)"
   ]
  },
  {
   "cell_type": "markdown",
   "id": "c244e408-25ba-484d-9a8b-eb70ac0cbc94",
   "metadata": {},
   "source": [
    "*We see that the above gave us inconclusive insights, the data shows that although most of the weekly sales were recorded during weeks of high unemploymenmt, there is no direct link between the two. Let's visually see the unemployment numbers using a pie chart below.*"
   ]
  },
  {
   "cell_type": "code",
   "execution_count": 35,
   "id": "bc80cac8-216d-47f4-8ba1-e690c6bfa389",
   "metadata": {},
   "outputs": [
    {
     "data": {
      "image/png": "[encoded data removed]",
      "text/plain": [
       "<Figure size 600x600 with 1 Axes>"
      ]
     },
     "metadata": {},
     "output_type": "display_data"
    }
   ],
   "source": [
    "bins = [5,6,7,8,9]\n",
    "labels = ['5-6', '6-7', '7-8', '8-9']\n",
    "df['Range'] = pd.cut(df['Unemployment'], bins=bins, labels=labels, right=True)\n",
    "range_counts = df['Range'].value_counts().sort_index()\n",
    "\n",
    "plt.figure(figsize=(6,6))\n",
    "range_counts.plot(kind='pie', autopct='%1.1f%%', startangle=90, legend=True, labeldistance=None)\n",
    "plt.title(\"Unemployment Distribution by Range\")\n",
    "plt.ylabel('')  # Removes default ylabel\n",
    "plt.legend(title=\"Unemployment Range\", labels=range_counts.index)  # Show range labels in legend\n",
    "plt.show()"
   ]
  },
  {
   "cell_type": "code",
   "execution_count": null,
   "id": "96e0c6e7-5b16-49bb-8f26-f0b1001e2b63",
   "metadata": {},
   "outputs": [],
   "source": []
  }
 ],
 "metadata": {
  "kernelspec": {
   "display_name": "Python [conda env:base] *",
   "language": "python",
   "name": "conda-base-py"
  },
  "language_info": {
   "codemirror_mode": {
    "name": "ipython",
    "version": 3
   },
   "file_extension": ".py",
   "mimetype": "text/x-python",
   "name": "python",
   "nbconvert_exporter": "python",
   "pygments_lexer": "ipython3",
   "version": "3.12.7"
  }
 },
 "nbformat": 4,
 "nbformat_minor": 5
}
